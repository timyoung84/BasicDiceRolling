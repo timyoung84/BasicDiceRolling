{
 "cells": [
  {
   "cell_type": "markdown",
   "id": "5f5b279e",
   "metadata": {},
   "source": [
    "# In this program I roll one die d times, then collect and analyze the results"
   ]
  },
  {
   "cell_type": "code",
   "execution_count": 1,
   "id": "9d269d6e",
   "metadata": {},
   "outputs": [],
   "source": [
    "import pandas as pd"
   ]
  },
  {
   "cell_type": "code",
   "execution_count": 3,
   "id": "731a9411",
   "metadata": {},
   "outputs": [],
   "source": [
    "## set number of times to roll the die\n",
    "d = 100"
   ]
  },
  {
   "cell_type": "code",
   "execution_count": 5,
   "id": "b2cee33d",
   "metadata": {},
   "outputs": [],
   "source": [
    "## roll the die and collect results\n"
   ]
  },
  {
   "cell_type": "code",
   "execution_count": null,
   "id": "612b6063",
   "metadata": {},
   "outputs": [],
   "source": []
  }
 ],
 "metadata": {
  "kernelspec": {
   "display_name": "Python 3",
   "language": "python",
   "name": "python3"
  },
  "language_info": {
   "codemirror_mode": {
    "name": "ipython",
    "version": 3
   },
   "file_extension": ".py",
   "mimetype": "text/x-python",
   "name": "python",
   "nbconvert_exporter": "python",
   "pygments_lexer": "ipython3",
   "version": "3.8.8"
  }
 },
 "nbformat": 4,
 "nbformat_minor": 5
}
